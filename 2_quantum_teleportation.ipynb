{
 "cells": [
  {
   "cell_type": "code",
   "execution_count": 2,
   "metadata": {},
   "outputs": [],
   "source": [
    "import qiskit as q\n",
    "%matplotlib inline\n",
    "\n",
    "simulator = q.Aer.get_backend('qasm_simulator')"
   ]
  },
  {
   "cell_type": "code",
   "execution_count": 22,
   "metadata": {},
   "outputs": [],
   "source": [
    "\n",
    "\n",
    "def test_teleportation(q0_value):\n",
    "    circuit = q.QuantumCircuit(3, 3)\n",
    "    \n",
    "    if (q0_value == 1):\n",
    "        circuit.x(0) # flip q_0\n",
    "        circuit.barrier()\n",
    "    \n",
    "    circuit.h(1)\n",
    "    circuit.cx(1,2)\n",
    "    circuit.cx(0,1)\n",
    "\n",
    "    circuit.h(0)\n",
    "\n",
    "    circuit.barrier()\n",
    "    circuit.measure([0,1],[0,1])\n",
    "\n",
    "    circuit.cx(1,2)\n",
    "    circuit.cz(0,2)\n",
    "    circuit.measure(2,2)\n",
    "\n",
    "    print(circuit.draw())\n",
    "    \n",
    "    job = q.execute(circuit, simulator, shots=1000)\n",
    "    result = job.result()\n",
    "    counts = result.get_counts(circuit)\n",
    "    print(\"\\nTotal count for 00 and 11 are:\",counts)\n",
    "    q.visualization.plot_histogram(counts)"
   ]
  },
  {
   "cell_type": "code",
   "execution_count": 23,
   "metadata": {},
   "outputs": [
    {
     "name": "stdout",
     "output_type": "stream",
     "text": [
      "                       ┌───┐ ░ ┌─┐              \n",
      "q_0: |0>────────────■──┤ H ├─░─┤M├─────────■────\n",
      "        ┌───┐     ┌─┴─┐└───┘ ░ └╥┘┌─┐      │    \n",
      "q_1: |0>┤ H ├──■──┤ X ├──────░──╫─┤M├──■───┼────\n",
      "        └───┘┌─┴─┐└───┘      ░  ║ └╥┘┌─┴─┐ │ ┌─┐\n",
      "q_2: |0>─────┤ X ├───────────░──╫──╫─┤ X ├─■─┤M├\n",
      "             └───┘           ░  ║  ║ └───┘   └╥┘\n",
      " c_0: 0 ════════════════════════╩══╬══════════╬═\n",
      "                                   ║          ║ \n",
      " c_1: 0 ═══════════════════════════╩══════════╬═\n",
      "                                              ║ \n",
      " c_2: 0 ══════════════════════════════════════╩═\n",
      "                                                \n",
      "\n",
      "Total count for 00 and 11 are: {'010': 253, '000': 243, '001': 243, '011': 261}\n"
     ]
    }
   ],
   "source": [
    "test_teleportation(0)"
   ]
  },
  {
   "cell_type": "code",
   "execution_count": 24,
   "metadata": {},
   "outputs": [
    {
     "name": "stdout",
     "output_type": "stream",
     "text": [
      "        ┌───┐ ░                ┌───┐ ░ ┌─┐              \n",
      "q_0: |0>┤ X ├─░─────────────■──┤ H ├─░─┤M├─────────■────\n",
      "        └───┘ ░ ┌───┐     ┌─┴─┐└───┘ ░ └╥┘┌─┐      │    \n",
      "q_1: |0>──────░─┤ H ├──■──┤ X ├──────░──╫─┤M├──■───┼────\n",
      "              ░ └───┘┌─┴─┐└───┘      ░  ║ └╥┘┌─┴─┐ │ ┌─┐\n",
      "q_2: |0>──────░──────┤ X ├───────────░──╫──╫─┤ X ├─■─┤M├\n",
      "              ░      └───┘           ░  ║  ║ └───┘   └╥┘\n",
      " c_0: 0 ════════════════════════════════╩══╬══════════╬═\n",
      "                                           ║          ║ \n",
      " c_1: 0 ═══════════════════════════════════╩══════════╬═\n",
      "                                                      ║ \n",
      " c_2: 0 ══════════════════════════════════════════════╩═\n",
      "                                                        \n",
      "\n",
      "Total count for 00 and 11 are: {'100': 269, '111': 246, '110': 242, '101': 243}\n"
     ]
    }
   ],
   "source": [
    "test_teleportation(1)"
   ]
  },
  {
   "cell_type": "code",
   "execution_count": null,
   "metadata": {},
   "outputs": [],
   "source": []
  }
 ],
 "metadata": {
  "kernelspec": {
   "display_name": "Python 3",
   "language": "python",
   "name": "python3"
  },
  "language_info": {
   "codemirror_mode": {
    "name": "ipython",
    "version": 3
   },
   "file_extension": ".py",
   "mimetype": "text/x-python",
   "name": "python",
   "nbconvert_exporter": "python",
   "pygments_lexer": "ipython3",
   "version": "3.7.3"
  }
 },
 "nbformat": 4,
 "nbformat_minor": 2
}
